{
  "cells": [
    {
      "cell_type": "markdown",
      "metadata": {
        "id": "900MVWZ7-raZ"
      },
      "source": [
        "# Setup"
      ]
    },
    {
      "cell_type": "code",
      "metadata": {
        "id": "a9Yj9pMz-rab"
      },
      "source": [
        "import pandas as pd\n",
        "\n",
        "df = pd.DataFrame({\n",
        "    'name': [\"Tom\", \"Lisa\", \"Peter\"],\n",
        "    'height': [1.68, 1.93, 1.72],\n",
        "    'weight': [48.4, 89.8, 84.2],\n",
        "    'id': [1, 2, 3],\n",
        "    'city': ['Stuttgart', 'Stuttgart', 'Berlin']\n",
        "})\n",
        "\n",
        "df['bmi'] = round(df['weight'] / (df['height'] * df['height']), 2)\n",
        "df[\"name\"] = df[\"name\"].astype(\"category\")\n",
        "df['id'] = df['id'].astype(str)"
      ],
      "execution_count": null,
      "outputs": []
    },
    {
      "cell_type": "markdown",
      "metadata": {
        "id": "mG6MqJbo-rac"
      },
      "source": [
        "# Numeric Data\n",
        "\n",
        "## Mean\n",
        "\n",
        "- We can calculate simple statistics like the *mean*\n",
        "\n"
      ]
    },
    {
      "cell_type": "code",
      "metadata": {
        "output-location": "fragment",
        "id": "4rcrjAUR-rad"
      },
      "source": [
        "df['height'].mean()"
      ],
      "execution_count": null,
      "outputs": []
    },
    {
      "cell_type": "markdown",
      "metadata": {
        "id": "D69-jlaI-rae"
      },
      "source": []
    },
    {
      "cell_type": "code",
      "metadata": {
        "output-location": "fragment",
        "id": "nzQ0QFkc-rae"
      },
      "source": [
        "df['height'].mean().round(2)"
      ],
      "execution_count": null,
      "outputs": []
    },
    {
      "cell_type": "markdown",
      "metadata": {
        "id": "4vozwZtM-raf"
      },
      "source": [
        "## Formatted string literals\n",
        "\n",
        "- Print the value in nice format ([using formatted string literals](https://docs.python.org/3.6/reference/lexical_analysis.html#formatted-string-literals) f\"...\")\n",
        "\n"
      ]
    },
    {
      "cell_type": "code",
      "metadata": {
        "output-location": "fragment",
        "id": "SXPJ7Fzo-raf"
      },
      "source": [
        "print(f\"The mean of height is {df['height'].mean():.2f}\")"
      ],
      "execution_count": null,
      "outputs": []
    },
    {
      "cell_type": "markdown",
      "metadata": {
        "id": "YTS7h1SE-rag"
      },
      "source": [
        "## Median and Standard Deviation"
      ]
    },
    {
      "cell_type": "code",
      "metadata": {
        "output-location": "fragment",
        "id": "Z8c4rJxQ-rag"
      },
      "source": [
        "df['height'].median()"
      ],
      "execution_count": null,
      "outputs": []
    },
    {
      "cell_type": "markdown",
      "metadata": {
        "id": "s2GeJhOK-rah"
      },
      "source": []
    },
    {
      "cell_type": "code",
      "metadata": {
        "output-location": "fragment",
        "id": "gAXa9AzF-rah"
      },
      "source": [
        "df['height'].std()"
      ],
      "execution_count": null,
      "outputs": []
    },
    {
      "cell_type": "markdown",
      "metadata": {
        "id": "MpcV_oUN-rai"
      },
      "source": [
        "## Describe\n",
        "\n",
        "- [describe()](https://pandas.pydata.org/docs/reference/api/pandas.DataFrame.describe.html#pandas.DataFrame.describe) shows a quick statistic summary of your numerical data.\n",
        "\n",
        "\n"
      ]
    },
    {
      "cell_type": "code",
      "metadata": {
        "output-location": "fragment",
        "id": "MKPO_fgc-rai"
      },
      "source": [
        "df.describe()"
      ],
      "execution_count": null,
      "outputs": []
    },
    {
      "cell_type": "markdown",
      "metadata": {
        "id": "F-AqCNL3-rai"
      },
      "source": [
        "## Describe with transpose\n"
      ]
    },
    {
      "cell_type": "code",
      "metadata": {
        "output-location": "fragment",
        "id": "NGcjbeGP-raj"
      },
      "source": [
        "df.describe().T.round(2)"
      ],
      "execution_count": null,
      "outputs": []
    },
    {
      "cell_type": "markdown",
      "metadata": {
        "id": "bOu6NNb8-raj"
      },
      "source": [
        "## Describe for specific columns with groupby\n",
        "\n",
        "- Summary statistics for numeric variables `height` and `bmi` for different levels of the categorical variable `city`:\n",
        "\n"
      ]
    },
    {
      "cell_type": "code",
      "metadata": {
        "output-location": "fragment",
        "id": "p8BYeYNU-raj"
      },
      "source": [
        "df[['height', 'city']].groupby(['city']).describe().round(2).T"
      ],
      "execution_count": null,
      "outputs": []
    },
    {
      "cell_type": "markdown",
      "metadata": {
        "id": "My7XtzWj-raj"
      },
      "source": [
        "# Categorical Data\n",
        "\n",
        "## Example\n",
        "\n",
        "- we can also use `describe()` for categorical data\n",
        "\n"
      ]
    },
    {
      "cell_type": "code",
      "metadata": {
        "output-location": "fragment",
        "id": "XlNWVBln-rak"
      },
      "source": [
        "df.describe(include=\"category\").T"
      ],
      "execution_count": null,
      "outputs": []
    },
    {
      "cell_type": "markdown",
      "metadata": {
        "id": "uXkrm5Ao-rak"
      },
      "source": [
        "## Show unique levels\n",
        "\n",
        "\n",
        "- Show unique levels of a categorical variable and count with `value_counts()`\n",
        "\n"
      ]
    },
    {
      "cell_type": "code",
      "metadata": {
        "output-location": "fragment",
        "id": "a0WC1UBQ-rak"
      },
      "source": [
        "df['city'].value_counts()"
      ],
      "execution_count": null,
      "outputs": []
    },
    {
      "cell_type": "markdown",
      "metadata": {
        "id": "yZ3SJL16-ral"
      },
      "source": [
        "## Extract specific values\n",
        "\n",
        "\n",
        "- We also can extract specific values"
      ]
    },
    {
      "cell_type": "code",
      "metadata": {
        "output-location": "fragment",
        "id": "mq94Y1s2-ral"
      },
      "source": [
        "df['city'].value_counts().Stuttgart"
      ],
      "execution_count": null,
      "outputs": []
    },
    {
      "cell_type": "markdown",
      "metadata": {
        "id": "CTiLp3Wy-ral"
      },
      "source": [
        "## Formatted string literals\n",
        "\n",
        "\n",
        "- Print the value in nice format ([using formatted string literals](https://docs.python.org/3.6/reference/lexical_analysis.html#formatted-string-literals) f\"...\")\n",
        "\n"
      ]
    },
    {
      "cell_type": "code",
      "metadata": {
        "output-location": "fragment",
        "id": "qQlD0aRI-ral"
      },
      "source": [
        "count_stuttgart = df['city'].value_counts().Stuttgart\n",
        "\n",
        "print(f\"There are {count_stuttgart} people from Stuttgart in the data\")"
      ],
      "execution_count": null,
      "outputs": []
    },
    {
      "cell_type": "markdown",
      "metadata": {
        "id": "ucwVuUia-ram"
      },
      "source": [
        "# Loop over List\n",
        "\n",
        "## Statistics for specific columns\n",
        "\n",
        "\n",
        "- Example of for loop to obtain statistics for specific numerical columns\n",
        "\n"
      ]
    },
    {
      "cell_type": "code",
      "metadata": {
        "id": "8xu-kNEF-ram"
      },
      "source": [
        "# make a list of numerical columns\n",
        "list_num = ['height', 'weight']"
      ],
      "execution_count": null,
      "outputs": []
    },
    {
      "cell_type": "markdown",
      "metadata": {
        "id": "Obtz50J_-ran"
      },
      "source": []
    },
    {
      "cell_type": "code",
      "metadata": {
        "output-location": "fragment",
        "id": "9CB1KhlL-ran"
      },
      "source": [
        "# calculate median for our list and only show 4 digits, then make a new line (\\n)\n",
        "for i in list_num:\n",
        "    print(f'Median of {i} equals {df[i].median():.4} \\n')"
      ],
      "execution_count": null,
      "outputs": []
    },
    {
      "cell_type": "markdown",
      "metadata": {
        "id": "kg9zSG1K-ran"
      },
      "source": [
        "## Summary statistics\n",
        "\n",
        "- Calculate summary statistics for our list."
      ]
    },
    {
      "cell_type": "code",
      "metadata": {
        "output-location": "fragment",
        "id": "oyVBoxqQ-ran"
      },
      "source": [
        "for i in list_num:\n",
        "    print(f'Column: {i}  \\n  {df[i].describe().round(2)}   \\n')"
      ],
      "execution_count": null,
      "outputs": []
    },
    {
      "cell_type": "markdown",
      "metadata": {
        "id": "Im9JvGdP-ran"
      },
      "source": [
        "# Create Plots\n",
        "\n",
        "## Setup\n"
      ]
    },
    {
      "cell_type": "code",
      "metadata": {
        "id": "DA13sHGV-rao"
      },
      "source": [
        "# Pandas needs the module matplotlib to create plots\n",
        "import matplotlib.pyplot as plt\n",
        "\n",
        "# show plot output in Jupyter Notebook\n",
        "%matplotlib inline"
      ],
      "execution_count": null,
      "outputs": []
    },
    {
      "cell_type": "markdown",
      "metadata": {
        "id": "IHvZ763U-rao"
      },
      "source": [
        "## One boxplot\n"
      ]
    },
    {
      "cell_type": "code",
      "metadata": {
        "output-location": "fragment",
        "id": "09BJK1QW-rao"
      },
      "source": [
        "df.boxplot(column=['weight']);"
      ],
      "execution_count": null,
      "outputs": []
    },
    {
      "cell_type": "code",
      "metadata": {
        "output-location": "fragment",
        "id": "9jITNCqj-rao"
      },
      "source": [
        "# obtain plots for our list\n",
        "for i in list_num:\n",
        "    df.boxplot(column=[i])\n",
        "    plt.title(\"Boxplot for \" + i)\n",
        "    plt.show()"
      ],
      "execution_count": null,
      "outputs": []
    }
  ],
  "metadata": {
    "kernelspec": {
      "name": "python3",
      "language": "python",
      "display_name": "Python 3 (ipykernel)"
    },
    "colab": {
      "provenance": [],
      "toc_visible": true
    }
  },
  "nbformat": 4,
  "nbformat_minor": 0
}