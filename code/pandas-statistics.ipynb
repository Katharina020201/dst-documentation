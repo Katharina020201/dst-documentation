{
  "cells": [
    {
      "cell_type": "markdown",
      "metadata": {
        "id": "900MVWZ7-raZ"
      },
      "source": [
        "# Setup"
      ]
    },
    {
      "cell_type": "code",
      "execution_count": null,
      "metadata": {
        "id": "a9Yj9pMz-rab"
      },
      "outputs": [],
      "source": [
        "import pandas as pd\n",
        "\n",
        "df = pd.DataFrame({\n",
        "    'name': [\"Tom\", \"Lisa\", \"Peter\"],\n",
        "    'height': [1.68, 1.93, 1.72],\n",
        "    'weight': [48.4, 89.8, 84.2],\n",
        "    'id': [1, 2, 3],\n",
        "    'city': ['Stuttgart', 'Stuttgart', 'Berlin']\n",
        "})\n",
        "\n",
        "df['bmi'] = round(df['weight'] / (df['height'] * df['height']), 2)\n",
        "df[\"name\"] = df[\"name\"].astype(\"category\")\n",
        "df['id'] = df['id'].astype(str)"
      ]
    },
    {
      "cell_type": "markdown",
      "metadata": {
        "id": "mG6MqJbo-rac"
      },
      "source": [
        "# Numeric Data\n",
        "\n",
        "## Mean\n",
        "\n",
        "- We can calculate simple statistics like the *mean*\n",
        "\n"
      ]
    },
    {
      "cell_type": "code",
      "execution_count": null,
      "metadata": {
        "id": "4rcrjAUR-rad",
        "output-location": "fragment"
      },
      "outputs": [],
      "source": [
        "df['height'].mean()"
      ]
    },
    {
      "cell_type": "markdown",
      "metadata": {
        "id": "D69-jlaI-rae"
      },
      "source": []
    },
    {
      "cell_type": "code",
      "execution_count": null,
      "metadata": {
        "id": "nzQ0QFkc-rae",
        "output-location": "fragment"
      },
      "outputs": [],
      "source": [
        "df['height'].mean().round(2)"
      ]
    },
    {
      "cell_type": "markdown",
      "metadata": {
        "id": "4vozwZtM-raf"
      },
      "source": [
        "## Formatted string literals\n",
        "\n",
        "- Print the value in nice format ([using formatted string literals](https://docs.python.org/3.6/reference/lexical_analysis.html#formatted-string-literals) f\"...\")\n",
        "\n"
      ]
    },
    {
      "cell_type": "code",
      "execution_count": null,
      "metadata": {
        "id": "SXPJ7Fzo-raf",
        "output-location": "fragment"
      },
      "outputs": [],
      "source": [
        "print(f\"The mean of height is {df['height'].mean():.2f}\")"
      ]
    },
    {
      "cell_type": "markdown",
      "metadata": {
        "id": "YTS7h1SE-rag"
      },
      "source": [
        "## Median and Standard Deviation"
      ]
    },
    {
      "cell_type": "code",
      "execution_count": null,
      "metadata": {
        "id": "Z8c4rJxQ-rag",
        "output-location": "fragment"
      },
      "outputs": [],
      "source": [
        "df['height'].median()"
      ]
    },
    {
      "cell_type": "markdown",
      "metadata": {
        "id": "s2GeJhOK-rah"
      },
      "source": []
    },
    {
      "cell_type": "code",
      "execution_count": null,
      "metadata": {
        "id": "gAXa9AzF-rah",
        "output-location": "fragment"
      },
      "outputs": [],
      "source": [
        "df['height'].std()"
      ]
    },
    {
      "cell_type": "markdown",
      "metadata": {
        "id": "MpcV_oUN-rai"
      },
      "source": [
        "## Describe\n",
        "\n",
        "- [describe()](https://pandas.pydata.org/docs/reference/api/pandas.DataFrame.describe.html#pandas.DataFrame.describe) shows a quick statistic summary of your numerical data.\n",
        "\n",
        "\n"
      ]
    },
    {
      "cell_type": "code",
      "execution_count": null,
      "metadata": {
        "id": "MKPO_fgc-rai",
        "output-location": "fragment"
      },
      "outputs": [],
      "source": [
        "df.describe()"
      ]
    },
    {
      "cell_type": "markdown",
      "metadata": {
        "id": "F-AqCNL3-rai"
      },
      "source": [
        "## Describe with transpose\n"
      ]
    },
    {
      "cell_type": "code",
      "execution_count": null,
      "metadata": {
        "id": "NGcjbeGP-raj",
        "output-location": "fragment"
      },
      "outputs": [],
      "source": [
        "df.describe().T.round(2)"
      ]
    },
    {
      "cell_type": "markdown",
      "metadata": {
        "id": "bOu6NNb8-raj"
      },
      "source": [
        "## Describe for specific columns with groupby\n",
        "\n",
        "- Summary statistics for numeric variables `height` and `bmi` for different levels of the categorical variable `city`:\n",
        "\n"
      ]
    },
    {
      "cell_type": "code",
      "execution_count": null,
      "metadata": {
        "id": "p8BYeYNU-raj",
        "output-location": "fragment"
      },
      "outputs": [],
      "source": [
        "df[['height', 'city']].groupby(['city']).describe().round(2).T"
      ]
    },
    {
      "cell_type": "markdown",
      "metadata": {
        "id": "My7XtzWj-raj"
      },
      "source": [
        "# Categorical Data\n",
        "\n",
        "## Example\n",
        "\n",
        "- we can also use `describe()` for categorical data\n",
        "\n"
      ]
    },
    {
      "cell_type": "code",
      "execution_count": null,
      "metadata": {
        "id": "XlNWVBln-rak",
        "output-location": "fragment"
      },
      "outputs": [],
      "source": [
        "df.describe(include=\"category\").T"
      ]
    },
    {
      "cell_type": "markdown",
      "metadata": {
        "id": "uXkrm5Ao-rak"
      },
      "source": [
        "## Show unique levels\n",
        "\n",
        "\n",
        "- Show unique levels of a categorical variable and count with `value_counts()`\n",
        "\n"
      ]
    },
    {
      "cell_type": "code",
      "execution_count": null,
      "metadata": {
        "id": "a0WC1UBQ-rak",
        "output-location": "fragment"
      },
      "outputs": [],
      "source": [
        "df['city'].value_counts()"
      ]
    },
    {
      "cell_type": "markdown",
      "metadata": {
        "id": "yZ3SJL16-ral"
      },
      "source": [
        "## Extract specific values\n",
        "\n",
        "\n",
        "- We also can extract specific values"
      ]
    },
    {
      "cell_type": "code",
      "execution_count": null,
      "metadata": {
        "id": "mq94Y1s2-ral",
        "output-location": "fragment"
      },
      "outputs": [],
      "source": [
        "df['city'].value_counts().Stuttgart"
      ]
    },
    {
      "cell_type": "markdown",
      "metadata": {
        "id": "CTiLp3Wy-ral"
      },
      "source": [
        "## Formatted string literals\n",
        "\n",
        "\n",
        "- Print the value in nice format ([using formatted string literals](https://docs.python.org/3.6/reference/lexical_analysis.html#formatted-string-literals) f\"...\")\n",
        "\n"
      ]
    },
    {
      "cell_type": "code",
      "execution_count": null,
      "metadata": {
        "id": "qQlD0aRI-ral",
        "output-location": "fragment"
      },
      "outputs": [],
      "source": [
        "count_stuttgart = df['city'].value_counts().Stuttgart\n",
        "\n",
        "print(f\"There are {count_stuttgart} people from Stuttgart in the data\")"
      ]
    },
    {
      "cell_type": "markdown",
      "metadata": {
        "id": "ucwVuUia-ram"
      },
      "source": [
        "# Loop over List\n",
        "\n",
        "## Statistics for specific columns\n",
        "\n",
        "\n",
        "- Example of for loop to obtain statistics for specific numerical columns\n",
        "\n"
      ]
    },
    {
      "cell_type": "code",
      "execution_count": null,
      "metadata": {
        "id": "8xu-kNEF-ram"
      },
      "outputs": [],
      "source": [
        "# make a list of numerical columns\n",
        "list_num = ['height', 'weight']"
      ]
    },
    {
      "cell_type": "markdown",
      "metadata": {
        "id": "Obtz50J_-ran"
      },
      "source": []
    },
    {
      "cell_type": "code",
      "execution_count": null,
      "metadata": {
        "id": "9CB1KhlL-ran",
        "output-location": "fragment"
      },
      "outputs": [],
      "source": [
        "# calculate median for our list and only show 4 digits, then make a new line (\\n)\n",
        "for i in list_num:\n",
        "    print(f'Median of {i} equals {df[i].median():.4} \\n')"
      ]
    },
    {
      "cell_type": "markdown",
      "metadata": {
        "id": "kg9zSG1K-ran"
      },
      "source": [
        "## Summary statistics\n",
        "\n",
        "- Calculate summary statistics for our list."
      ]
    },
    {
      "cell_type": "code",
      "execution_count": null,
      "metadata": {
        "id": "oyVBoxqQ-ran",
        "output-location": "fragment"
      },
      "outputs": [],
      "source": [
        "for i in list_num:\n",
        "    print(f'Column: {i}  \\n  {df[i].describe().round(2)}   \\n')"
      ]
    },
    {
      "cell_type": "markdown",
      "metadata": {
        "id": "Im9JvGdP-ran"
      },
      "source": [
        "# Create Plots\n",
        "\n",
        "## Setup\n"
      ]
    },
    {
      "cell_type": "code",
      "execution_count": null,
      "metadata": {
        "id": "DA13sHGV-rao"
      },
      "outputs": [],
      "source": [
        "# Pandas needs the module matplotlib to create plots\n",
        "import matplotlib.pyplot as plt\n",
        "\n",
        "# show plot output in Jupyter Notebook\n",
        "%matplotlib inline"
      ]
    },
    {
      "cell_type": "markdown",
      "metadata": {
        "id": "IHvZ763U-rao"
      },
      "source": [
        "## One boxplot\n"
      ]
    },
    {
      "cell_type": "code",
      "execution_count": null,
      "metadata": {
        "id": "09BJK1QW-rao",
        "output-location": "fragment"
      },
      "outputs": [],
      "source": [
        "df.boxplot(column=['weight']);"
      ]
    },
    {
      "cell_type": "code",
      "execution_count": null,
      "metadata": {
        "id": "9jITNCqj-rao",
        "output-location": "fragment"
      },
      "outputs": [],
      "source": [
        "# obtain plots for our list\n",
        "for i in list_num:\n",
        "    df.boxplot(column=[i])\n",
        "    plt.title(\"Boxplot for \" + i)\n",
        "    plt.show()"
      ]
    }
  ],
  "metadata": {
    "colab": {
      "provenance": [],
      "toc_visible": true
    },
    "kernelspec": {
      "display_name": "Python 3 (ipykernel)",
      "language": "python",
      "name": "python3"
    },
    "language_info": {
      "name": "python",
      "version": "3.11.5"
    }
  },
  "nbformat": 4,
  "nbformat_minor": 0
}
